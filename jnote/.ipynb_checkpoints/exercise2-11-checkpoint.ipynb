{
 "cells": [
  {
   "cell_type": "markdown",
   "id": "edb48d2c-49f7-42e2-a953-a22522761948",
   "metadata": {},
   "source": [
    "**NOTE: You need to run the whole noteboot from the beginning \n",
    "to the end every time you change the settings, mostly.**"
   ]
  },
  {
   "cell_type": "code",
   "execution_count": 134,
   "id": "c7273c2b-9807-4995-9e5c-d88def3e5b7d",
   "metadata": {},
   "outputs": [],
   "source": [
    "# Param settings\n",
    "TOTAL_TIME = 200000\n",
    "ACTION_NUM = 10\n",
    "INIT_Q = 0\n",
    "Q_INC_VAR = 0\n",
    "SAMPLE_NUM = 100"
   ]
  },
  {
   "cell_type": "markdown",
   "id": "e2bf3201-362a-4045-a2b8-22863b49ccc4",
   "metadata": {},
   "source": [
    "# Modelling\n",
    "We geneate $q_*$ values throughout the lifetime offline as below, initially with **equal** values and then take random walks with **normal** increments. This is a nonstationary multi-armed bandit problem model."
   ]
  },
  {
   "cell_type": "code",
   "execution_count": 150,
   "id": "d66a220d-c902-427e-bc10-3a244e961eb1",
   "metadata": {},
   "outputs": [
    {
     "data": {
      "text/plain": [
       "[<matplotlib.lines.Line2D at 0x17e17ed30>,\n",
       " <matplotlib.lines.Line2D at 0x17e17ed90>,\n",
       " <matplotlib.lines.Line2D at 0x17e17eeb0>,\n",
       " <matplotlib.lines.Line2D at 0x17e17efd0>,\n",
       " <matplotlib.lines.Line2D at 0x17e183130>,\n",
       " <matplotlib.lines.Line2D at 0x17e183250>,\n",
       " <matplotlib.lines.Line2D at 0x17e183370>,\n",
       " <matplotlib.lines.Line2D at 0x17e183490>,\n",
       " <matplotlib.lines.Line2D at 0x17e1835b0>,\n",
       " <matplotlib.lines.Line2D at 0x17e1836d0>]"
      ]
     },
     "execution_count": 150,
     "metadata": {},
     "output_type": "execute_result"
    },
    {
     "data": {
      "image/png": "[encoded data removed]",
      "text/plain": [
       "<Figure size 640x480 with 1 Axes>"
      ]
     },
     "metadata": {},
     "output_type": "display_data"
    }
   ],
   "source": [
    "import numpy as np\n",
    "from matplotlib import pyplot as plt\n",
    "\n",
    "q_all = np.zeros((TOTAL_TIME+1, ACTION_NUM))\n",
    "q_all[0] = np.linspace(0,2,ACTION_NUM)\n",
    "np.random.shuffle(q_all[0])\n",
    "\n",
    "for t in range(1, TOTAL_TIME+1):\n",
    "    q_inc = np.random.normal(scale=Q_INC_VAR,size=(1,ACTION_NUM))\n",
    "    q_all[t] = q_all[t-1] + q_inc\n",
    "    \n",
    "q_best = np.argmax(q_all, axis=1)\n",
    "\n",
    "plt.plot(np.linspace(0,TOTAL_TIME, TOTAL_TIME+1),q_all)"
   ]
  },
  {
   "cell_type": "markdown",
   "id": "fd58e074-0e63-4b99-96de-b2e420fe3eef",
   "metadata": {
    "tags": []
   },
   "source": [
    "# Learning\n",
    "We take the learning process, with *sample-average method* or *constant step-size parameter method* as action-value method in parallel, and benchmark the outcomes of **average reward** and **rate of optimal action** for comparison."
   ]
  },
  {
   "cell_type": "code",
   "execution_count": null,
   "id": "8639a47c-18ba-4ac6-9d92-a22ed2014891",
   "metadata": {},
   "outputs": [],
   "source": [
    "import random\n",
    "import math\n",
    "\n",
    "cndt = [1/1024, 1/512, 1/256, 1/128, 1/64, 1/32, 1/16, 1/8, 1/4, 1/2, 1, 2, 4, 8, 16]\n",
    "performance_log = [[],[],[],[]]"
   ]
  },
  {
   "cell_type": "code",
   "execution_count": null,
   "id": "cb823583-c861-4a5c-84d7-6d8034f6a132",
   "metadata": {},
   "outputs": [],
   "source": [
    "performance_log[0] = []\n",
    "for eps in cndt:\n",
    "    if eps >= 1:\n",
    "        performance_log[0].append(np.NaN)\n",
    "        continue\n",
    "    Q = np.linspace(0,0,ACTION_NUM)\n",
    "    is_explore = map(lambda x: True if x < eps else False, [random.random() for i in range(TOTAL_TIME)])\n",
    "    R_sum = 0\n",
    "    R_log = [0]\n",
    "    for t in range(1, TOTAL_TIME+1):\n",
    "        A = random.randrange(0, ACTION_NUM) if next(is_explore) else np.argmax(Q)\n",
    "        R = np.random.normal(loc=q_all[t][A])\n",
    "        Q[A] += 0.1 * (R - Q[A])\n",
    "        R_sum += R\n",
    "        R_log.append(R_sum/t)\n",
    "    performance_log[0].append(sum(R_log[-TOTAL_TIME//2:-1])/len(R_log[-TOTAL_TIME//2:-1]))"
   ]
  },
  {
   "cell_type": "code",
   "execution_count": null,
   "id": "0f06e7f4-84ef-442f-8826-bd3bf029b705",
   "metadata": {},
   "outputs": [],
   "source": [
    "performance_log[1] = []\n",
    "for q0 in cndt:\n",
    "    p_sum = 0\n",
    "    for i in range(SAMPLE_NUM):\n",
    "        Q = np.linspace(q0,q0,ACTION_NUM)\n",
    "        R_sum = 0\n",
    "        R_log = [0]\n",
    "        for t in range(1, TOTAL_TIME+1):\n",
    "            A = np.argmax(Q)\n",
    "            R = np.random.normal(loc=q_all[t][A])\n",
    "            Q[A] += 0.1 * (R - Q[A])\n",
    "            R_sum += R\n",
    "            R_log.append(R_sum/t)\n",
    "        p_sum += sum(R_log[-TOTAL_TIME//2:-1])/len(R_log[-TOTAL_TIME//2:-1])\n",
    "    \n",
    "    performance_log[1].append(p_sum/100)"
   ]
  },
  {
   "cell_type": "code",
   "execution_count": null,
   "id": "874d07a4-b92b-458b-939a-c16220ee7d97",
   "metadata": {},
   "outputs": [],
   "source": [
    "performance_log[2] = []\n",
    "\n",
    "for c in cndt:\n",
    "    p_sum = 0\n",
    "    for i in range(SAMPLE_NUM):\n",
    "        Q = np.linspace(0,0,ACTION_NUM)\n",
    "        N = [0.001 for i in range(ACTION_NUM)]\n",
    "        R_sum = 0\n",
    "        R_log = [0]\n",
    "        for t in range(1, TOTAL_TIME+1):\n",
    "            A = np.argmax(Q+c*np.sqrt(np.log(t)/N))\n",
    "            N[A] += 1\n",
    "            R = np.random.normal(loc=q_all[t][A])\n",
    "            Q[A] += 0.1 * (R - Q[A])\n",
    "            R_sum += R\n",
    "            R_log.append(R_sum/t)\n",
    "        p_sum += sum(R_log[-TOTAL_TIME//2:-1])/len(R_log[-TOTAL_TIME//2:-1])\n",
    "    \n",
    "    performance_log[2].append(p_sum/100)"
   ]
  },
  {
   "cell_type": "code",
   "execution_count": null,
   "id": "da007ec2-83e5-4d1f-b765-dabca2cd99df",
   "metadata": {},
   "outputs": [],
   "source": [
    "performance_log[3] = []\n",
    "\n",
    "for alpha in cndt:\n",
    "    p_sum = 0\n",
    "    for i in range(SAMPLE_NUM):\n",
    "        H = np.zeros(ACTION_NUM)\n",
    "        N = np.zeros(ACTION_NUM)\n",
    "        R_a_sum = np.zeros(ACTION_NUM)\n",
    "        R_sum = 0\n",
    "        R_log = [0]\n",
    "        for t in range(1, TOTAL_TIME+1):\n",
    "            pi = np.exp(H)/sum(np.exp(H))\n",
    "            A = np.random.choice(list(range(0,ACTION_NUM)), p=pi)\n",
    "            N[A] += 1\n",
    "            R = np.random.normal(loc=q_all[t][A])\n",
    "            R_a_sum[A] += R\n",
    "            H += alpha * (R - np.divide(R_a_sum,N,where=N!=0))*(np.where(np.arange(ACTION_NUM)==A,1,0)-pi)\n",
    "            R_sum += R\n",
    "            R_log.append(R_sum/t)\n",
    "        p_sum += sum(R_log[-TOTAL_TIME//2:-1])/len(R_log[-TOTAL_TIME//2:-1])\n",
    "    \n",
    "    performance_log[3].append(p_sum/100)"
   ]
  },
  {
   "cell_type": "code",
   "execution_count": null,
   "id": "5a67dda2-afea-4929-9dcd-40b11f2f91b0",
   "metadata": {},
   "outputs": [],
   "source": [
    "plt.xlabel(\"Param\")\n",
    "plt.ylabel(\"Average reward\")\n",
    "plt.semilogx(cndt, np.array(performance_log).transpose(), label=[\"$\\epsilon$-greedy\",\"greedy with optimistic initialization\",\"UCB\",\"gradient bandit\"], base=2)\n",
    "plt.legend()\n",
    "plt.show()"
   ]
  },
  {
   "cell_type": "code",
   "execution_count": null,
   "id": "bb4dc9f1-6581-41fa-8232-64c9e34c23b9",
   "metadata": {},
   "outputs": [],
   "source": []
  }
 ],
 "metadata": {
  "kernelspec": {
   "display_name": "Python 3 (ipykernel)",
   "language": "python",
   "name": "python3"
  },
  "language_info": {
   "codemirror_mode": {
    "name": "ipython",
    "version": 3
   },
   "file_extension": ".py",
   "mimetype": "text/x-python",
   "name": "python",
   "nbconvert_exporter": "python",
   "pygments_lexer": "ipython3",
   "version": "3.9.13"
  }
 },
 "nbformat": 4,
 "nbformat_minor": 5
}
